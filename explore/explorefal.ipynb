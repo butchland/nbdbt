{
 "cells": [
  {
   "cell_type": "code",
   "execution_count": 1,
   "id": "b702e603-5e5e-4bd5-8ece-2a926697a90f",
   "metadata": {},
   "outputs": [],
   "source": [
    "from fal import FalDbt"
   ]
  },
  {
   "cell_type": "code",
   "execution_count": 2,
   "id": "dfd03cef-7799-4078-9549-9cc9300450db",
   "metadata": {},
   "outputs": [],
   "source": [
    "faldbt = FalDbt(profiles_dir='~/.dbt', project_dir='../my_dbt_project')"
   ]
  },
  {
   "cell_type": "code",
   "execution_count": 3,
   "id": "6050f907-bd8d-40f1-a25a-d479bbdfafaf",
   "metadata": {},
   "outputs": [
    {
     "data": {
      "text/plain": [
       "[]"
      ]
     },
     "execution_count": 3,
     "metadata": {},
     "output_type": "execute_result"
    }
   ],
   "source": [
    "faldbt.list_sources()"
   ]
  },
  {
   "cell_type": "code",
   "execution_count": 4,
   "id": "e2665e95-6e80-48ff-a845-fc2e27eae3ef",
   "metadata": {},
   "outputs": [],
   "source": [
    "models = faldbt.list_models()"
   ]
  },
  {
   "cell_type": "code",
   "execution_count": 5,
   "id": "801fd415-4b89-474a-bb12-a140f92b7211",
   "metadata": {},
   "outputs": [
    {
     "data": {
      "text/plain": [
       "3"
      ]
     },
     "execution_count": 5,
     "metadata": {},
     "output_type": "execute_result"
    }
   ],
   "source": [
    "len(models)"
   ]
  },
  {
   "cell_type": "code",
   "execution_count": 6,
   "id": "df9cd427-eb09-40bc-843b-ec9361a8c5b9",
   "metadata": {},
   "outputs": [
    {
     "data": {
      "text/plain": [
       "faldbt.project.DbtModel"
      ]
     },
     "execution_count": 6,
     "metadata": {},
     "output_type": "execute_result"
    }
   ],
   "source": [
    "type(models[0])"
   ]
  },
  {
   "cell_type": "code",
   "execution_count": 7,
   "id": "d41e889c-f8e3-4c4d-a6de-56dce366d02b",
   "metadata": {},
   "outputs": [
    {
     "data": {
      "text/plain": [
       "DbtModel(name='my_third_model', alias='my_third_model', unique_id='model.my_dbt_project.my_third_model', columns={}, tests=[], status=<NodeStatus.Skipped: 'skipped'>)"
      ]
     },
     "execution_count": 7,
     "metadata": {},
     "output_type": "execute_result"
    }
   ],
   "source": [
    "models[0]"
   ]
  },
  {
   "cell_type": "code",
   "execution_count": 8,
   "id": "5cad920d-f795-48fe-92ee-06f6021bd81d",
   "metadata": {},
   "outputs": [
    {
     "data": {
      "text/plain": [
       "'model.my_dbt_project.my_third_model'"
      ]
     },
     "execution_count": 8,
     "metadata": {},
     "output_type": "execute_result"
    }
   ],
   "source": [
    "models[0].unique_id"
   ]
  },
  {
   "cell_type": "code",
   "execution_count": 14,
   "id": "7d708276-71cb-43fa-bd44-28519194bc94",
   "metadata": {},
   "outputs": [
    {
     "data": {
      "text/plain": [
       "DbtModel(name='my_second_dbt_model', alias='my_second_dbt_model', unique_id='model.my_dbt_project.my_second_dbt_model', columns={'id': ColumnInfo(name='id', description='The primary key for this table', meta={}, data_type=None, quote=None, tags=[], _extra={})}, tests=[DbtTest(status=<NodeStatus.Skipped: 'skipped'>, model='my_second_dbt_model', column='id'), DbtTest(status=<NodeStatus.Skipped: 'skipped'>, model='my_second_dbt_model', column='id')], status=<NodeStatus.Skipped: 'skipped'>)"
      ]
     },
     "execution_count": 14,
     "metadata": {},
     "output_type": "execute_result"
    }
   ],
   "source": [
    "models[1]"
   ]
  },
  {
   "cell_type": "code",
   "execution_count": 15,
   "id": "26825724-9a66-4372-b215-dbda8ba586bf",
   "metadata": {},
   "outputs": [
    {
     "data": {
      "text/plain": [
       "'model.my_dbt_project.my_second_dbt_model'"
      ]
     },
     "execution_count": 15,
     "metadata": {},
     "output_type": "execute_result"
    }
   ],
   "source": [
    "models[1].unique_id"
   ]
  },
  {
   "cell_type": "code",
   "execution_count": 18,
   "id": "f1caa55d-3467-40c9-ac7c-19baf78da733",
   "metadata": {},
   "outputs": [
    {
     "data": {
      "text/plain": [
       "'my_second_dbt_model'"
      ]
     },
     "execution_count": 18,
     "metadata": {},
     "output_type": "execute_result"
    }
   ],
   "source": [
    "models[1].name"
   ]
  },
  {
   "cell_type": "code",
   "execution_count": 9,
   "id": "bd46f804-b781-4b50-920c-224acde556c1",
   "metadata": {},
   "outputs": [
    {
     "ename": "NameError",
     "evalue": "name 'sample1' is not defined",
     "output_type": "error",
     "traceback": [
      "\u001b[0;31m---------------------------------------------------------------------------\u001b[0m",
      "\u001b[0;31mNameError\u001b[0m                                 Traceback (most recent call last)",
      "\u001b[0;32m/tmp/ipykernel_6307/209420843.py\u001b[0m in \u001b[0;36m<module>\u001b[0;34m\u001b[0m\n\u001b[0;32m----> 1\u001b[0;31m \u001b[0msample1\u001b[0m\u001b[0;34m.\u001b[0m\u001b[0mresults\u001b[0m\u001b[0;34m[\u001b[0m\u001b[0;36m0\u001b[0m\u001b[0;34m]\u001b[0m\u001b[0;34m.\u001b[0m\u001b[0mnode\u001b[0m\u001b[0;34m.\u001b[0m\u001b[0munique_id\u001b[0m\u001b[0;34m\u001b[0m\u001b[0;34m\u001b[0m\u001b[0m\n\u001b[0m\u001b[1;32m      2\u001b[0m \u001b[0msample1\u001b[0m\u001b[0;34m.\u001b[0m\u001b[0mresults\u001b[0m\u001b[0;34m[\u001b[0m\u001b[0;36m0\u001b[0m\u001b[0;34m]\u001b[0m\u001b[0;34m.\u001b[0m\u001b[0mnode\u001b[0m\u001b[0;34m.\u001b[0m\u001b[0moriginal_file_path\u001b[0m\u001b[0;34m\u001b[0m\u001b[0;34m\u001b[0m\u001b[0m\n",
      "\u001b[0;31mNameError\u001b[0m: name 'sample1' is not defined"
     ]
    }
   ],
   "source": [
    "# sample1.results[0].node.unique_id\n",
    "# sample1.results[0].node.original_file_path"
   ]
  },
  {
   "cell_type": "code",
   "execution_count": 10,
   "id": "3d311ff9-023a-47d9-aecf-2ac1a78af40c",
   "metadata": {},
   "outputs": [
    {
     "data": {
      "text/plain": [
       "'my_third_model'"
      ]
     },
     "execution_count": 10,
     "metadata": {},
     "output_type": "execute_result"
    }
   ],
   "source": [
    "models[0].name"
   ]
  },
  {
   "cell_type": "code",
   "execution_count": 16,
   "id": "893f5431-ca5f-4547-abe5-cf4efced3237",
   "metadata": {},
   "outputs": [],
   "source": [
    "df3 = faldbt.ref(models[1].name)"
   ]
  },
  {
   "cell_type": "code",
   "execution_count": 17,
   "id": "fd405ec5-59f7-490e-8a1a-9d0b3014ed09",
   "metadata": {},
   "outputs": [
    {
     "data": {
      "text/html": [
       "<div>\n",
       "<style scoped>\n",
       "    .dataframe tbody tr th:only-of-type {\n",
       "        vertical-align: middle;\n",
       "    }\n",
       "\n",
       "    .dataframe tbody tr th {\n",
       "        vertical-align: top;\n",
       "    }\n",
       "\n",
       "    .dataframe thead th {\n",
       "        text-align: right;\n",
       "    }\n",
       "</style>\n",
       "<table border=\"1\" class=\"dataframe\">\n",
       "  <thead>\n",
       "    <tr style=\"text-align: right;\">\n",
       "      <th></th>\n",
       "      <th>id</th>\n",
       "    </tr>\n",
       "  </thead>\n",
       "  <tbody>\n",
       "    <tr>\n",
       "      <th>0</th>\n",
       "      <td>1.0</td>\n",
       "    </tr>\n",
       "  </tbody>\n",
       "</table>\n",
       "</div>"
      ],
      "text/plain": [
       "    id\n",
       "0  1.0"
      ]
     },
     "execution_count": 17,
     "metadata": {},
     "output_type": "execute_result"
    }
   ],
   "source": [
    "df3"
   ]
  },
  {
   "cell_type": "code",
   "execution_count": 21,
   "id": "b09237d9-15cd-4e3e-baaf-9c0340eb8bf2",
   "metadata": {},
   "outputs": [
    {
     "data": {
      "text/plain": [
       "ParsedModelNode(raw_sql=\"-- Use the `ref` function to select from other models\\n\\nselect *\\nfrom {{ ref('my_first_dbt_model') }}\\nwhere id = 1\", database='sample-dbt-learn-project', schema='jaffle_shop', fqn=['my_dbt_project', 'example', 'my_second_dbt_model'], unique_id='model.my_dbt_project.my_second_dbt_model', package_name='my_dbt_project', root_path='../my_dbt_project', path='example/my_second_dbt_model.sql', original_file_path='models/example/my_second_dbt_model.sql', name='my_second_dbt_model', resource_type=<NodeType.Model: 'model'>, alias='my_second_dbt_model', checksum=FileHash(name='sha256', checksum='b3aa346f283f3c9c9a75936f3b80d2572ca9ab39aee4c02b30553d3fe2ba5692'), config=NodeConfig(_extra={}, enabled=True, alias=None, schema=None, database=None, tags=[], meta={}, materialized='view', persist_docs={}, post_hook=[], pre_hook=[], quoting={}, column_types={}, full_refresh=None, unique_key=None, on_schema_change='ignore'), _event_status={}, tags=[], refs=[['my_first_dbt_model']], sources=[], depends_on=DependsOn(macros=[], nodes=['model.my_dbt_project.my_first_dbt_model']), description='A starter dbt model', columns={'id': ColumnInfo(name='id', description='The primary key for this table', meta={}, data_type=None, quote=None, tags=[], _extra={})}, meta={}, docs=Docs(show=True), patch_path='my_dbt_project://models/example/schema.yml', compiled_path=None, build_path=None, deferred=False, unrendered_config={'materialized': 'view'}, created_at=1655735217.116296, config_call_dict={})"
      ]
     },
     "execution_count": 21,
     "metadata": {},
     "output_type": "execute_result"
    }
   ],
   "source": [
    "pmodel2 = faldbt._model('my_second_dbt_model',None); pmodel2"
   ]
  },
  {
   "cell_type": "code",
   "execution_count": 22,
   "id": "bf56a0a0-1b35-4261-aa05-8ab34f6d0d12",
   "metadata": {},
   "outputs": [
    {
     "data": {
      "text/plain": [
       "'dev'"
      ]
     },
     "execution_count": 22,
     "metadata": {},
     "output_type": "execute_result"
    }
   ],
   "source": [
    "faldbt._profile_target"
   ]
  },
  {
   "cell_type": "code",
   "execution_count": 13,
   "id": "f36b30e3-de5a-49a4-bc98-728ea936bd36",
   "metadata": {},
   "outputs": [
    {
     "data": {
      "text/plain": [
       "ParsedAnalysisNode(raw_sql=\"-- AUTOGENERATED! DO NOT EDIT! File to edit: notebooks/00_dbt_cellmagic.ipynb (unless otherwise specified).\\n\\nselect *\\nfrom {{ ref('my_second_dbt_model') }}\\nwhere id is not null\", database='sample-dbt-learn-project', schema='jaffle_shop', fqn=['my_dbt_project', 'analysis', 'sample2'], unique_id='analysis.my_dbt_project.sample2', package_name='my_dbt_project', root_path='../my_dbt_project', path='analysis/sample2.sql', original_file_path='analyses/sample2.sql', name='sample2', resource_type=<NodeType.Analysis: 'analysis'>, alias='sample2', checksum=FileHash(name='sha256', checksum='46915a7ca49d95fd3c6cb3bf18c3200feef90b00a6974e8acb7a54ea21a60db7'), config=NodeConfig(_extra={}, enabled=True, alias=None, schema=None, database=None, tags=[], meta={}, materialized='view', persist_docs={}, post_hook=[], pre_hook=[], quoting={}, column_types={}, full_refresh=None, unique_key=None, on_schema_change='ignore'), _event_status={}, tags=[], refs=[['my_second_dbt_model']], sources=[], depends_on=DependsOn(macros=[], nodes=['model.my_dbt_project.my_second_dbt_model']), description='', columns={}, meta={}, docs=Docs(show=True), patch_path=None, compiled_path=None, build_path=None, deferred=False, unrendered_config={}, created_at=1655735217.103304, config_call_dict={})"
      ]
     },
     "execution_count": 13,
     "metadata": {},
     "output_type": "execute_result"
    }
   ],
   "source": [
    "sample2 = faldbt._manifest.nativeManifest.analysis_lookup.perform_lookup('analysis.my_dbt_project.sample2', faldbt._manifest.nativeManifest); sample2"
   ]
  },
  {
   "cell_type": "code",
   "execution_count": null,
   "id": "fe147f72-3fb4-4920-a03f-f4ae0d1ba1bd",
   "metadata": {},
   "outputs": [],
   "source": [
    "# create faldbt object\n",
    "# get node unique_id in op_result\n",
    "# find faldbt.models where dbtModel.unique_id == unique_id in op_result\n",
    "# get dbtModel.target_model\n",
    "# call faldbt.ref(target_model)"
   ]
  },
  {
   "cell_type": "code",
   "execution_count": null,
   "id": "4fa30905-4f65-4c0b-8ae5-d18a1864d7c0",
   "metadata": {},
   "outputs": [],
   "source": [
    "from faldbt import lib"
   ]
  },
  {
   "cell_type": "code",
   "execution_count": null,
   "id": "dc17cf67-1f49-4e06-8913-d5d9747f5f8f",
   "metadata": {},
   "outputs": [],
   "source": [
    "result = lib.fetch_target('../my_dbt_project','~/.dbt',sample2,faldbt._profile_target) "
   ]
  },
  {
   "cell_type": "code",
   "execution_count": null,
   "id": "6cac204f-cbec-4e91-b996-ec47a72086f3",
   "metadata": {},
   "outputs": [],
   "source": [
    "model2"
   ]
  },
  {
   "cell_type": "code",
   "execution_count": null,
   "id": "ff12f40e-76fb-4cee-8308-1f4739053d18",
   "metadata": {},
   "outputs": [],
   "source": [
    "target_model2 = faldbt._model('my_first_dbt_model',None);target_model2"
   ]
  },
  {
   "cell_type": "code",
   "execution_count": null,
   "id": "f56652a8-5b6a-4996-8e7b-8387438601be",
   "metadata": {},
   "outputs": [],
   "source": [
    "relation2 = lib._get_target_relation(target_model2, '../my_dbt_project','~/.dbt', None); relation2 "
   ]
  },
  {
   "cell_type": "code",
   "execution_count": null,
   "id": "882db55c-8c51-47bf-8796-266e05b00c8b",
   "metadata": {},
   "outputs": [],
   "source": [
    "sample2"
   ]
  },
  {
   "cell_type": "code",
   "execution_count": null,
   "id": "151c9b59-4ec9-496f-85ed-e81a0e7c01a7",
   "metadata": {},
   "outputs": [],
   "source": []
  },
  {
   "cell_type": "code",
   "execution_count": 24,
   "id": "74540b20-8f7c-4d58-a2b0-8c0e52c709ee",
   "metadata": {},
   "outputs": [
    {
     "data": {
      "text/plain": [
       "'analysis.my_dbt_project.sample2'"
      ]
     },
     "execution_count": 24,
     "metadata": {},
     "output_type": "execute_result"
    }
   ],
   "source": [
    "sample2.results[0].node.unique_id"
   ]
  },
  {
   "cell_type": "code",
   "execution_count": 25,
   "id": "dcb7e55b-d4fd-439e-9924-26089c56453c",
   "metadata": {},
   "outputs": [
    {
     "data": {
      "text/plain": [
       "'-- AUTOGENERATED! DO NOT EDIT! File to edit: notebooks/00_dbt_cellmagic.ipynb (unless otherwise specified).\\n\\nselect *\\nfrom `sample-dbt-learn-project`.`jaffle_shop`.`my_second_dbt_model`\\nwhere id is not null'"
      ]
     },
     "execution_count": 25,
     "metadata": {},
     "output_type": "execute_result"
    }
   ],
   "source": [
    "sample2.results[0].node.compiled_sql"
   ]
  },
  {
   "cell_type": "code",
   "execution_count": 43,
   "id": "19f049ed-603d-4164-89de-29cfd92b9082",
   "metadata": {},
   "outputs": [],
   "source": [
    "import faldbt.lib as fallib"
   ]
  },
  {
   "cell_type": "code",
   "execution_count": 44,
   "id": "57cb0960-2170-40ed-985a-786fe764f704",
   "metadata": {},
   "outputs": [],
   "source": [
    "from fal import FalDbt"
   ]
  },
  {
   "cell_type": "code",
   "execution_count": 45,
   "id": "3ed58f5f-0e43-4a66-acce-f6861b8a316c",
   "metadata": {},
   "outputs": [],
   "source": [
    "faldbt = FalDbt(profiles_dir=\"~/.dbt\", project_dir=\"../my_dbt_project\")"
   ]
  },
  {
   "cell_type": "code",
   "execution_count": 46,
   "id": "b3678103-f2ab-475f-ac2d-fbca2c631bee",
   "metadata": {},
   "outputs": [],
   "source": [
    "profile_target = faldbt._profile_target"
   ]
  },
  {
   "cell_type": "code",
   "execution_count": 47,
   "id": "5eb5ec7b-35ab-4be7-b37a-7e772941a7e0",
   "metadata": {},
   "outputs": [
    {
     "data": {
      "text/plain": [
       "'dev'"
      ]
     },
     "execution_count": 47,
     "metadata": {},
     "output_type": "execute_result"
    }
   ],
   "source": [
    "profile_target"
   ]
  },
  {
   "cell_type": "code",
   "execution_count": 48,
   "id": "859e7dca-4e71-4b28-ba6a-3c5831efd03b",
   "metadata": {},
   "outputs": [],
   "source": [
    "adapter_response, result = fallib._execute_sql(\n",
    "    \"../my_dbt_project\", \"~/.dbt\", sample2.results[0].node.compiled_sql, profile_target\n",
    ")"
   ]
  },
  {
   "cell_type": "code",
   "execution_count": 49,
   "id": "11f7e9b5-e771-4dca-88f3-2901a3e8d1eb",
   "metadata": {},
   "outputs": [],
   "source": [
    "import pandas as pd"
   ]
  },
  {
   "cell_type": "code",
   "execution_count": 50,
   "id": "f7134b73-df29-4d72-956b-7a2350c92434",
   "metadata": {},
   "outputs": [
    {
     "data": {
      "text/html": [
       "<div>\n",
       "<style scoped>\n",
       "    .dataframe tbody tr th:only-of-type {\n",
       "        vertical-align: middle;\n",
       "    }\n",
       "\n",
       "    .dataframe tbody tr th {\n",
       "        vertical-align: top;\n",
       "    }\n",
       "\n",
       "    .dataframe thead th {\n",
       "        text-align: right;\n",
       "    }\n",
       "</style>\n",
       "<table border=\"1\" class=\"dataframe\">\n",
       "  <thead>\n",
       "    <tr style=\"text-align: right;\">\n",
       "      <th></th>\n",
       "      <th>id</th>\n",
       "    </tr>\n",
       "  </thead>\n",
       "  <tbody>\n",
       "    <tr>\n",
       "      <th>0</th>\n",
       "      <td>1.0</td>\n",
       "    </tr>\n",
       "  </tbody>\n",
       "</table>\n",
       "</div>"
      ],
      "text/plain": [
       "    id\n",
       "0  1.0"
      ]
     },
     "execution_count": 50,
     "metadata": {},
     "output_type": "execute_result"
    }
   ],
   "source": [
    "df_result = pd.DataFrame.from_records(\n",
    "    result.table.rows, columns=result.table.column_names, coerce_float=True\n",
    ")\n",
    "df_result"
   ]
  },
  {
   "cell_type": "code",
   "execution_count": null,
   "id": "820bba08-ee23-4944-a8c6-e38844449cf3",
   "metadata": {},
   "outputs": [],
   "source": [
    "# notest\n",
    "from nbdev.export import notebook2script\n",
    "\n",
    "notebook2script(\"notebooks/00_dbt_cellmagic.ipynb\")"
   ]
  }
 ],
 "metadata": {
  "kernelspec": {
   "display_name": "Python 3.7 (nbdbt)",
   "language": "python",
   "name": "nbdbt"
  },
  "language_info": {
   "codemirror_mode": {
    "name": "ipython",
    "version": 3
   },
   "file_extension": ".py",
   "mimetype": "text/x-python",
   "name": "python",
   "nbconvert_exporter": "python",
   "pygments_lexer": "ipython3",
   "version": "3.7.13"
  }
 },
 "nbformat": 4,
 "nbformat_minor": 5
}
