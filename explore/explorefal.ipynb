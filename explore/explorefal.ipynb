{
 "cells": [
  {
   "cell_type": "code",
   "execution_count": 1,
   "id": "b702e603-5e5e-4bd5-8ece-2a926697a90f",
   "metadata": {},
   "outputs": [],
   "source": [
    "from fal import FalDbt"
   ]
  },
  {
   "cell_type": "code",
   "execution_count": 3,
   "id": "dfd03cef-7799-4078-9549-9cc9300450db",
   "metadata": {},
   "outputs": [],
   "source": [
    "faldbt = FalDbt(profiles_dir='~/.dbt', project_dir='../my_dbt_project')"
   ]
  },
  {
   "cell_type": "code",
   "execution_count": null,
   "id": "6050f907-bd8d-40f1-a25a-d479bbdfafaf",
   "metadata": {},
   "outputs": [],
   "source": [
    "faldbt.list_sources()"
   ]
  },
  {
   "cell_type": "code",
   "execution_count": null,
   "id": "e2665e95-6e80-48ff-a845-fc2e27eae3ef",
   "metadata": {},
   "outputs": [],
   "source": [
    "models = faldbt.list_models()"
   ]
  },
  {
   "cell_type": "code",
   "execution_count": null,
   "id": "801fd415-4b89-474a-bb12-a140f92b7211",
   "metadata": {},
   "outputs": [],
   "source": [
    "len(models)"
   ]
  },
  {
   "cell_type": "code",
   "execution_count": null,
   "id": "df9cd427-eb09-40bc-843b-ec9361a8c5b9",
   "metadata": {},
   "outputs": [],
   "source": [
    "type(models[0])"
   ]
  },
  {
   "cell_type": "code",
   "execution_count": null,
   "id": "d41e889c-f8e3-4c4d-a6de-56dce366d02b",
   "metadata": {},
   "outputs": [],
   "source": [
    "models[0]"
   ]
  },
  {
   "cell_type": "code",
   "execution_count": null,
   "id": "5cad920d-f795-48fe-92ee-06f6021bd81d",
   "metadata": {},
   "outputs": [],
   "source": [
    "models[0].unique_id"
   ]
  },
  {
   "cell_type": "code",
   "execution_count": null,
   "id": "bd46f804-b781-4b50-920c-224acde556c1",
   "metadata": {},
   "outputs": [],
   "source": [
    "sample1.results[0].node.unique_id\n",
    "sample1.results[0].node.original_file_path"
   ]
  },
  {
   "cell_type": "code",
   "execution_count": null,
   "id": "3d311ff9-023a-47d9-aecf-2ac1a78af40c",
   "metadata": {},
   "outputs": [],
   "source": [
    "models[0].name"
   ]
  },
  {
   "cell_type": "code",
   "execution_count": null,
   "id": "893f5431-ca5f-4547-abe5-cf4efced3237",
   "metadata": {},
   "outputs": [],
   "source": [
    "df3 = faldbt.ref(models[0].name)"
   ]
  },
  {
   "cell_type": "code",
   "execution_count": null,
   "id": "fd405ec5-59f7-490e-8a1a-9d0b3014ed09",
   "metadata": {},
   "outputs": [],
   "source": [
    "df3"
   ]
  },
  {
   "cell_type": "code",
   "execution_count": null,
   "id": "f36b30e3-de5a-49a4-bc98-728ea936bd36",
   "metadata": {},
   "outputs": [],
   "source": [
    "sample2 = faldbt._manifest.nativeManifest.analysis_lookup.perform_lookup('analysis.my_dbt_project.sample2', faldbt._manifest.nativeManifest); sample2"
   ]
  },
  {
   "cell_type": "code",
   "execution_count": null,
   "id": "fe147f72-3fb4-4920-a03f-f4ae0d1ba1bd",
   "metadata": {},
   "outputs": [],
   "source": [
    "# create faldbt object\n",
    "# get node unique_id in op_result\n",
    "# find faldbt.models where dbtModel.unique_id == unique_id in op_result\n",
    "# get dbtModel.target_model\n",
    "# call faldbt.ref(target_model)"
   ]
  },
  {
   "cell_type": "code",
   "execution_count": 20,
   "id": "4fa30905-4f65-4c0b-8ae5-d18a1864d7c0",
   "metadata": {},
   "outputs": [],
   "source": [
    "from faldbt import lib"
   ]
  },
  {
   "cell_type": "code",
   "execution_count": 21,
   "id": "dc17cf67-1f49-4e06-8913-d5d9747f5f8f",
   "metadata": {},
   "outputs": [
    {
     "ename": "Exception",
     "evalue": "Could not get relation for 'analysis.my_dbt_project.sample2'",
     "output_type": "error",
     "traceback": [
      "\u001b[0;31m---------------------------------------------------------------------------\u001b[0m",
      "\u001b[0;31mException\u001b[0m                                 Traceback (most recent call last)",
      "\u001b[0;32m/tmp/ipykernel_3074/908012609.py\u001b[0m in \u001b[0;36m<module>\u001b[0;34m\u001b[0m\n\u001b[0;32m----> 1\u001b[0;31m \u001b[0mresult\u001b[0m \u001b[0;34m=\u001b[0m \u001b[0mlib\u001b[0m\u001b[0;34m.\u001b[0m\u001b[0mfetch_target\u001b[0m\u001b[0;34m(\u001b[0m\u001b[0;34m'../my_dbt_project'\u001b[0m\u001b[0;34m,\u001b[0m\u001b[0;34m'~/.dbt'\u001b[0m\u001b[0;34m,\u001b[0m\u001b[0msample2\u001b[0m\u001b[0;34m,\u001b[0m\u001b[0mfaldbt\u001b[0m\u001b[0;34m.\u001b[0m\u001b[0m_profile_target\u001b[0m\u001b[0;34m)\u001b[0m\u001b[0;34m\u001b[0m\u001b[0;34m\u001b[0m\u001b[0m\n\u001b[0m",
      "\u001b[0;32m~/play/experiments/nbdbt/venv/lib/python3.7/site-packages/faldbt/lib.py\u001b[0m in \u001b[0;36mfetch_target\u001b[0;34m(project_dir, profiles_dir, target, profile_target)\u001b[0m\n\u001b[1;32m    203\u001b[0m \u001b[0;34m\u001b[0m\u001b[0m\n\u001b[1;32m    204\u001b[0m     \u001b[0;32mif\u001b[0m \u001b[0mrelation\u001b[0m \u001b[0;32mis\u001b[0m \u001b[0;32mNone\u001b[0m\u001b[0;34m:\u001b[0m\u001b[0;34m\u001b[0m\u001b[0;34m\u001b[0m\u001b[0m\n\u001b[0;32m--> 205\u001b[0;31m         \u001b[0;32mraise\u001b[0m \u001b[0mException\u001b[0m\u001b[0;34m(\u001b[0m\u001b[0;34mf\"Could not get relation for '{target.unique_id}'\"\u001b[0m\u001b[0;34m)\u001b[0m\u001b[0;34m\u001b[0m\u001b[0;34m\u001b[0m\u001b[0m\n\u001b[0m\u001b[1;32m    206\u001b[0m \u001b[0;34m\u001b[0m\u001b[0m\n\u001b[1;32m    207\u001b[0m     \u001b[0mquery\u001b[0m \u001b[0;34m=\u001b[0m \u001b[0;34mf\"SELECT * FROM {relation}\"\u001b[0m\u001b[0;34m\u001b[0m\u001b[0;34m\u001b[0m\u001b[0m\n",
      "\u001b[0;31mException\u001b[0m: Could not get relation for 'analysis.my_dbt_project.sample2'"
     ]
    }
   ],
   "source": [
    "result = lib.fetch_target('../my_dbt_project','~/.dbt',sample2,faldbt._profile_target) "
   ]
  },
  {
   "cell_type": "code",
   "execution_count": 22,
   "id": "6cac204f-cbec-4e91-b996-ec47a72086f3",
   "metadata": {},
   "outputs": [
    {
     "data": {
      "text/plain": [
       "ParsedModelNode(raw_sql=\"-- Use the `ref` function to select from other models\\n\\nselect *\\nfrom {{ ref('my_first_dbt_model') }}\\nwhere id = 1\", database='sample-dbt-learn-project', schema='jaffle_shop', fqn=['my_dbt_project', 'example', 'my_second_dbt_model'], unique_id='model.my_dbt_project.my_second_dbt_model', package_name='my_dbt_project', root_path='/home/butch2/play/experiments/nbdbt/my_dbt_project', path='example/my_second_dbt_model.sql', original_file_path='models/example/my_second_dbt_model.sql', name='my_second_dbt_model', resource_type=<NodeType.Model: 'model'>, alias='my_second_dbt_model', checksum=FileHash(name='sha256', checksum='b3aa346f283f3c9c9a75936f3b80d2572ca9ab39aee4c02b30553d3fe2ba5692'), config=NodeConfig(_extra={}, enabled=True, alias=None, schema=None, database=None, tags=[], meta={}, materialized='view', persist_docs={}, post_hook=[], pre_hook=[], quoting={}, column_types={}, full_refresh=None, unique_key=None, on_schema_change='ignore'), _event_status={}, tags=[], refs=[['my_first_dbt_model']], sources=[], depends_on=DependsOn(macros=[], nodes=['model.my_dbt_project.my_first_dbt_model']), description='A starter dbt model', columns={'id': ColumnInfo(name='id', description='The primary key for this table', meta={}, data_type=None, quote=None, tags=[], _extra={})}, meta={}, docs=Docs(show=True), patch_path='my_dbt_project://models/example/schema.yml', compiled_path=None, build_path=None, deferred=False, unrendered_config={'materialized': 'view'}, created_at=1655728576.2335212, config_call_dict={})"
      ]
     },
     "execution_count": 22,
     "metadata": {},
     "output_type": "execute_result"
    }
   ],
   "source": [
    "model2"
   ]
  },
  {
   "cell_type": "code",
   "execution_count": 23,
   "id": "ff12f40e-76fb-4cee-8308-1f4739053d18",
   "metadata": {},
   "outputs": [
    {
     "data": {
      "text/plain": [
       "ParsedModelNode(raw_sql='/*\\n    Welcome to your first dbt model!\\n    Did you know that you can also configure models directly within SQL files?\\n    This will override configurations stated in dbt_project.yml\\n\\n    Try changing \"table\" to \"view\" below\\n*/\\n\\n{{ config(materialized=\\'table\\') }}\\n\\nwith source_data as (\\n\\n    select 1 as id\\n    union all\\n    select null as id\\n\\n)\\n\\nselect *\\nfrom source_data\\n\\n/*\\n    Uncomment the line below to remove records with null `id` values\\n*/\\n\\n-- where id is not null', database='sample-dbt-learn-project', schema='jaffle_shop', fqn=['my_dbt_project', 'example', 'my_first_dbt_model'], unique_id='model.my_dbt_project.my_first_dbt_model', package_name='my_dbt_project', root_path='/home/butch2/play/experiments/nbdbt/my_dbt_project', path='example/my_first_dbt_model.sql', original_file_path='models/example/my_first_dbt_model.sql', name='my_first_dbt_model', resource_type=<NodeType.Model: 'model'>, alias='my_first_dbt_model', checksum=FileHash(name='sha256', checksum='842251f5ed1d97920d3748d9686b8c05a3a0071ec7990f948f36796491788aed'), config=NodeConfig(_extra={}, enabled=True, alias=None, schema=None, database=None, tags=[], meta={}, materialized='table', persist_docs={}, post_hook=[], pre_hook=[], quoting={}, column_types={}, full_refresh=None, unique_key=None, on_schema_change='ignore'), _event_status={}, tags=[], refs=[], sources=[], depends_on=DependsOn(macros=[], nodes=[]), description='A starter dbt model', columns={'id': ColumnInfo(name='id', description='The primary key for this table', meta={}, data_type=None, quote=None, tags=[], _extra={})}, meta={}, docs=Docs(show=True), patch_path='my_dbt_project://models/example/schema.yml', compiled_path=None, build_path=None, deferred=False, unrendered_config={'materialized': 'table'}, created_at=1655728576.2326396, config_call_dict={'materialized': 'table'})"
      ]
     },
     "execution_count": 23,
     "metadata": {},
     "output_type": "execute_result"
    }
   ],
   "source": [
    "target_model2 = faldbt._model('my_first_dbt_model',None);target_model2"
   ]
  },
  {
   "cell_type": "code",
   "execution_count": 24,
   "id": "f56652a8-5b6a-4996-8e7b-8387438601be",
   "metadata": {},
   "outputs": [
    {
     "data": {
      "text/plain": [
       "<BigQueryRelation `sample-dbt-learn-project`.`jaffle_shop`.`my_first_dbt_model`>"
      ]
     },
     "execution_count": 24,
     "metadata": {},
     "output_type": "execute_result"
    }
   ],
   "source": [
    "relation2 = lib._get_target_relation(target_model2, '../my_dbt_project','~/.dbt', None); relation2 "
   ]
  },
  {
   "cell_type": "code",
   "execution_count": 25,
   "id": "882db55c-8c51-47bf-8796-266e05b00c8b",
   "metadata": {},
   "outputs": [
    {
     "data": {
      "text/plain": [
       "ParsedAnalysisNode(raw_sql=\"-- AUTOGENERATED! DO NOT EDIT! File to edit: notebooks/00_dbt_cellmagic.ipynb (unless otherwise specified).\\n\\nselect *\\nfrom {{ ref('my_second_dbt_model') }}\\nwhere id is not null\", database='sample-dbt-learn-project', schema='jaffle_shop', fqn=['my_dbt_project', 'analysis', 'sample2'], unique_id='analysis.my_dbt_project.sample2', package_name='my_dbt_project', root_path='/home/butch2/play/experiments/nbdbt/my_dbt_project', path='analysis/sample2.sql', original_file_path='analyses/sample2.sql', name='sample2', resource_type=<NodeType.Analysis: 'analysis'>, alias='sample2', checksum=FileHash(name='sha256', checksum='46915a7ca49d95fd3c6cb3bf18c3200feef90b00a6974e8acb7a54ea21a60db7'), config=NodeConfig(_extra={}, enabled=True, alias=None, schema=None, database=None, tags=[], meta={}, materialized='view', persist_docs={}, post_hook=[], pre_hook=[], quoting={}, column_types={}, full_refresh=None, unique_key=None, on_schema_change='ignore'), _event_status={}, tags=[], refs=[['my_second_dbt_model']], sources=[], depends_on=DependsOn(macros=[], nodes=['model.my_dbt_project.my_second_dbt_model']), description='', columns={}, meta={}, docs=Docs(show=True), patch_path=None, compiled_path=None, build_path=None, deferred=False, unrendered_config={}, created_at=1655728576.2171092, config_call_dict={})"
      ]
     },
     "execution_count": 25,
     "metadata": {},
     "output_type": "execute_result"
    }
   ],
   "source": [
    "sample2"
   ]
  },
  {
   "cell_type": "code",
   "execution_count": null,
   "id": "151c9b59-4ec9-496f-85ed-e81a0e7c01a7",
   "metadata": {},
   "outputs": [],
   "source": []
  }
 ],
 "metadata": {
  "kernelspec": {
   "display_name": "Python 3.7 (nbdbt)",
   "language": "python",
   "name": "nbdbt"
  },
  "language_info": {
   "codemirror_mode": {
    "name": "ipython",
    "version": 3
   },
   "file_extension": ".py",
   "mimetype": "text/x-python",
   "name": "python",
   "nbconvert_exporter": "python",
   "pygments_lexer": "ipython3",
   "version": "3.7.13"
  }
 },
 "nbformat": 4,
 "nbformat_minor": 5
}
