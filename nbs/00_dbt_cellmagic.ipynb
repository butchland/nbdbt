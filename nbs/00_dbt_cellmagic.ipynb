{
 "cells": [
  {
   "cell_type": "code",
   "execution_count": null,
   "metadata": {},
   "outputs": [],
   "source": [
    "# default_exp dbt_cellmagic"
   ]
  },
  {
   "cell_type": "markdown",
   "metadata": {},
   "source": [
    "# DBT Cell Magic \n",
    "\n",
    "> provides the `%%dbt` cell magic for creating models and analyses "
   ]
  },
  {
   "cell_type": "code",
   "execution_count": null,
   "metadata": {},
   "outputs": [],
   "source": [
    "# hide\n",
    "# notest\n",
    "%reload_ext autoreload\n",
    "%reload_ext lab_black\n",
    "%autoreload 2"
   ]
  },
  {
   "cell_type": "code",
   "execution_count": null,
   "metadata": {},
   "outputs": [],
   "source": [
    "# hide\n",
    "from nbdev.showdoc import *"
   ]
  },
  {
   "cell_type": "code",
   "execution_count": null,
   "metadata": {},
   "outputs": [],
   "source": [
    "# exporti\n",
    "\n",
    "import IPython\n",
    "from IPython.core import magic_arguments\n",
    "from IPython.core.magic import register_cell_magic, register_line_magic"
   ]
  },
  {
   "cell_type": "code",
   "execution_count": null,
   "metadata": {},
   "outputs": [],
   "source": [
    "# exporti\n",
    "from pathlib import Path"
   ]
  },
  {
   "cell_type": "code",
   "execution_count": null,
   "metadata": {},
   "outputs": [],
   "source": [
    "# exporti\n",
    "from dbt.main import parse_args, adapter_management\n",
    "from dbt.task.compile import CompileTask\n",
    "import dbt.flags\n",
    "import dbt.tracking"
   ]
  },
  {
   "cell_type": "code",
   "execution_count": null,
   "metadata": {},
   "outputs": [],
   "source": [
    "# exporti\n",
    "dbt.tracking.active_user = dbt.tracking.User(None)\n",
    "dbt.flags.INDIRECT_SELECTION = \"eager\"\n",
    "dbt.flags.WRITE_JSON = True"
   ]
  },
  {
   "cell_type": "code",
   "execution_count": null,
   "metadata": {},
   "outputs": [],
   "source": [
    "# exporti\n",
    "\n",
    "from fal import FalDbt\n",
    "import faldbt.lib as fallib"
   ]
  },
  {
   "cell_type": "code",
   "execution_count": null,
   "metadata": {},
   "outputs": [],
   "source": [
    "# exporti\n",
    "\n",
    "import pandas as pd"
   ]
  },
  {
   "cell_type": "code",
   "execution_count": null,
   "metadata": {},
   "outputs": [],
   "source": [
    "# export\n",
    "def write_sql(sql: str, file: str, project_dir: str):\n",
    "    path = Path(project_dir) / file\n",
    "    with open(path, \"w\") as f:\n",
    "        f.write(sql)"
   ]
  },
  {
   "cell_type": "code",
   "execution_count": null,
   "metadata": {},
   "outputs": [],
   "source": [
    "# export\n",
    "def compile_model(project: str, model: str):\n",
    "    parsed = parse_args([\"compile\", \"--select\", model, \"--project-dir\", project])\n",
    "    with adapter_management():\n",
    "        task = CompileTask.from_args(args=parsed)\n",
    "        op_result = task.run()\n",
    "        return op_result"
   ]
  },
  {
   "cell_type": "code",
   "execution_count": null,
   "metadata": {},
   "outputs": [],
   "source": [
    "# export\n",
    "def exec_faldbt_ref(project, op_result, profiles=\"~/.dbt\"):\n",
    "    \"\"\"execute sql and return df\"\"\"\n",
    "\n",
    "    sql = op_result.results[0].node.compiled_sql\n",
    "\n",
    "    faldbt = FalDbt(profiles_dir=profiles, project_dir=project)\n",
    "    profile_target = faldbt._profile_target\n",
    "    # adapter_response, result\n",
    "    _, result = fallib._execute_sql(project, profiles, sql, profile_target)\n",
    "    df_result = pd.DataFrame.from_records(\n",
    "        result.table.rows, columns=result.table.column_names, coerce_float=True\n",
    "    )\n",
    "    return df_result"
   ]
  },
  {
   "cell_type": "code",
   "execution_count": null,
   "metadata": {},
   "outputs": [],
   "source": [
    "# export\n",
    "@magic_arguments.magic_arguments()\n",
    "@magic_arguments.argument(\n",
    "    \"-a\",\n",
    "    \"--assign\",\n",
    "    type=str,\n",
    "    default=None,\n",
    "    help=(\"If provided, save the output to this variable instead of displaying it.\"),\n",
    ")\n",
    "@magic_arguments.argument(\n",
    "    \"-p\",\n",
    "    \"--project\",\n",
    "    type=str,\n",
    "    help=(\"dbt project directory\"),\n",
    ")\n",
    "@magic_arguments.argument(\n",
    "    \"-n\",\n",
    "    \"--notebook\",\n",
    "    type=str,\n",
    "    default=None,\n",
    "    help=(\"notebook source file\"),\n",
    ")\n",
    "@magic_arguments.argument(\n",
    "    \"file\",\n",
    "    type=str,\n",
    "    help=(\"file path to write to\"),\n",
    ")\n",
    "@register_cell_magic(\"dbt\")\n",
    "def write_dbt(line, cell):\n",
    "    try:\n",
    "        from dbt.main import parse_args\n",
    "    except ImportError:\n",
    "        return \"'dbt-core' not installed. Did you run 'pip install dbt-core'?\"\n",
    "    line_args = magic_arguments.parse_argstring(write_dbt, line)\n",
    "    # print(f\"assign={line_args.assign}\")\n",
    "    # print(f\"project={line_args.project}\")\n",
    "    # print(f\"notebook={line_args.notebook}\")\n",
    "    # print(f\"file={line_args.file}\")\n",
    "\n",
    "    if not line_args.notebook:\n",
    "        contents = \"-- AUTOGENERATED! DO NOT EDIT!\\n\" + cell\n",
    "    else:\n",
    "        contents = (\n",
    "            f\"-- AUTOGENERATED! DO NOT EDIT! File to edit: {line_args.notebook} (unless otherwise specified).\\n\"\n",
    "            + cell\n",
    "        )\n",
    "    write_sql(contents, line_args.file, line_args.project)\n",
    "    op_result = compile_model(line_args.project, line_args.file)\n",
    "    results = exec_faldbt_ref(line_args.project, op_result)\n",
    "    if line_args.assign:\n",
    "        IPython.get_ipython().push({line_args.assign: results})\n",
    "        return 0\n",
    "    return results"
   ]
  },
  {
   "cell_type": "code",
   "execution_count": null,
   "metadata": {},
   "outputs": [],
   "source": [
    "# hide\n",
    "test_project = \"my_dbt_project\"\n",
    "test_project_dir = f\"../{test_project}\"\n",
    "test_model1 = \"analyses/sample1.sql\"\n",
    "test_model2 = \"analyses/sample2.sql\""
   ]
  },
  {
   "cell_type": "code",
   "execution_count": null,
   "metadata": {},
   "outputs": [],
   "source": [
    "# hide\n",
    "!rm -f {test_project_dir}/{test_model1}\n",
    "!rm -f {test_project_dir}/target/compiled/{test_project}/{test_model1}"
   ]
  },
  {
   "cell_type": "code",
   "execution_count": null,
   "metadata": {},
   "outputs": [
    {
     "name": "stdout",
     "output_type": "stream",
     "text": [
      "13:16:26  Found 3 models, 4 tests, 0 snapshots, 3 analyses, 191 macros, 0 operations, 0 seed files, 0 sources, 0 exposures, 0 metrics\n",
      "13:16:26  \n",
      "13:16:28  Concurrency: 1 threads (target='dev')\n",
      "13:16:28  \n",
      "13:16:28  Done.\n"
     ]
    },
    {
     "data": {
      "text/html": [
       "<div>\n",
       "<style scoped>\n",
       "    .dataframe tbody tr th:only-of-type {\n",
       "        vertical-align: middle;\n",
       "    }\n",
       "\n",
       "    .dataframe tbody tr th {\n",
       "        vertical-align: top;\n",
       "    }\n",
       "\n",
       "    .dataframe thead th {\n",
       "        text-align: right;\n",
       "    }\n",
       "</style>\n",
       "<table border=\"1\" class=\"dataframe\">\n",
       "  <thead>\n",
       "    <tr style=\"text-align: right;\">\n",
       "      <th></th>\n",
       "      <th>id</th>\n",
       "    </tr>\n",
       "  </thead>\n",
       "  <tbody>\n",
       "    <tr>\n",
       "      <th>0</th>\n",
       "      <td>1.0</td>\n",
       "    </tr>\n",
       "  </tbody>\n",
       "</table>\n",
       "</div>"
      ],
      "text/plain": [
       "    id\n",
       "0  1.0"
      ]
     },
     "execution_count": null,
     "metadata": {},
     "output_type": "execute_result"
    }
   ],
   "source": [
    "%%dbt -p ../my_dbt_project analyses/sample1.sql\n",
    "\n",
    "select *\n",
    "from {{ ref('my_first_dbt_model') }}\n",
    "where id is not null"
   ]
  },
  {
   "cell_type": "code",
   "execution_count": null,
   "metadata": {},
   "outputs": [],
   "source": [
    "# hide\n",
    "# check that analyses file was created\n",
    "assert (Path(test_project_dir) / test_model1).exists()"
   ]
  },
  {
   "cell_type": "code",
   "execution_count": null,
   "metadata": {},
   "outputs": [
    {
     "data": {
      "text/plain": [
       "True"
      ]
     },
     "execution_count": null,
     "metadata": {},
     "output_type": "execute_result"
    }
   ],
   "source": [
    "# hide\n",
    "# check that compiled file was created\n",
    "(Path(test_project_dir) / \"target\" / \"compiled\" / test_project / test_model1).exists()"
   ]
  },
  {
   "cell_type": "code",
   "execution_count": null,
   "metadata": {},
   "outputs": [],
   "source": [
    "# hide\n",
    "!rm -f {test_project_dir}/{test_model2}\n",
    "!rm -f {test_project_dir}/target/compiled/{test_project}/{test_model2}"
   ]
  },
  {
   "cell_type": "code",
   "execution_count": null,
   "metadata": {},
   "outputs": [],
   "source": [
    "if \"sample2\" in globals():\n",
    "    del sample2"
   ]
  },
  {
   "cell_type": "code",
   "execution_count": null,
   "metadata": {},
   "outputs": [
    {
     "data": {
      "text/plain": [
       "0"
      ]
     },
     "execution_count": null,
     "metadata": {},
     "output_type": "execute_result"
    }
   ],
   "source": [
    "%%dbt -a sample2 -p ../my_dbt_project -n notebooks/00_dbt_cellmagic.ipynb analyses/sample2.sql \n",
    "\n",
    "select *\n",
    "from {{ ref('my_second_dbt_model') }}\n",
    "where id is not null"
   ]
  },
  {
   "cell_type": "code",
   "execution_count": null,
   "metadata": {},
   "outputs": [],
   "source": [
    "# hide\n",
    "# check that analyses file was created\n",
    "assert (Path(test_project_dir) / test_model2).exists()"
   ]
  },
  {
   "cell_type": "code",
   "execution_count": null,
   "metadata": {},
   "outputs": [
    {
     "data": {
      "text/plain": [
       "True"
      ]
     },
     "execution_count": null,
     "metadata": {},
     "output_type": "execute_result"
    }
   ],
   "source": [
    "# hide\n",
    "# check that compiled file was created\n",
    "(Path(test_project_dir) / \"target\" / \"compiled\" / test_project / test_model2).exists()"
   ]
  },
  {
   "cell_type": "code",
   "execution_count": null,
   "metadata": {},
   "outputs": [],
   "source": [
    "# hide\n",
    "assert \"sample2\" in globals()"
   ]
  },
  {
   "cell_type": "code",
   "execution_count": null,
   "metadata": {},
   "outputs": [
    {
     "data": {
      "text/plain": [
       "1"
      ]
     },
     "execution_count": null,
     "metadata": {},
     "output_type": "execute_result"
    }
   ],
   "source": [
    "len(sample2)"
   ]
  },
  {
   "cell_type": "code",
   "execution_count": null,
   "metadata": {},
   "outputs": [
    {
     "data": {
      "text/html": [
       "<div>\n",
       "<style scoped>\n",
       "    .dataframe tbody tr th:only-of-type {\n",
       "        vertical-align: middle;\n",
       "    }\n",
       "\n",
       "    .dataframe tbody tr th {\n",
       "        vertical-align: top;\n",
       "    }\n",
       "\n",
       "    .dataframe thead th {\n",
       "        text-align: right;\n",
       "    }\n",
       "</style>\n",
       "<table border=\"1\" class=\"dataframe\">\n",
       "  <thead>\n",
       "    <tr style=\"text-align: right;\">\n",
       "      <th></th>\n",
       "      <th>id</th>\n",
       "    </tr>\n",
       "  </thead>\n",
       "  <tbody>\n",
       "    <tr>\n",
       "      <th>0</th>\n",
       "      <td>1.0</td>\n",
       "    </tr>\n",
       "  </tbody>\n",
       "</table>\n",
       "</div>"
      ],
      "text/plain": [
       "    id\n",
       "0  1.0"
      ]
     },
     "execution_count": null,
     "metadata": {},
     "output_type": "execute_result"
    }
   ],
   "source": [
    "sample2"
   ]
  },
  {
   "cell_type": "code",
   "execution_count": null,
   "metadata": {},
   "outputs": [],
   "source": []
  }
 ],
 "metadata": {
  "kernelspec": {
   "display_name": "Python 3.7 (nbdbt)",
   "language": "python",
   "name": "nbdbt"
  }
 },
 "nbformat": 4,
 "nbformat_minor": 4
}
