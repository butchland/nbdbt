{
 "cells": [
  {
   "cell_type": "markdown",
   "metadata": {},
   "source": [
    "# nbdbt\n",
    "\n",
    "> Use jupyter notebooks for dbt development"
   ]
  },
  {
   "cell_type": "markdown",
   "metadata": {},
   "source": [
    "[`dbt`](https://getdbt.com) (data build tool) is revolutionizing the way we do the process of extracting value from our data. \n",
    "\n",
    "This package allows Jupyter notebooks to be used for developing dbt models and analyses in complement with other dbt command line tools and VS Code extensions."
   ]
  },
  {
   "cell_type": "markdown",
   "metadata": {},
   "source": [
    "## Install"
   ]
  },
  {
   "cell_type": "markdown",
   "metadata": {},
   "source": [
    "`pip install git+https://github.com/butchland/nbdbt.git`"
   ]
  },
  {
   "cell_type": "markdown",
   "metadata": {},
   "source": [
    "## How to use"
   ]
  },
  {
   "cell_type": "markdown",
   "metadata": {},
   "source": [
    "The `%%dbt` cell magic allows you to create models and analyses in your dbt project.\n"
   ]
  },
  {
   "cell_type": "code",
   "execution_count": null,
   "metadata": {},
   "outputs": [],
   "source": [
    "# hide\n",
    "# notest\n",
    "%reload_ext autoreload\n",
    "%reload_ext lab_black\n",
    "%autoreload 2"
   ]
  },
  {
   "cell_type": "markdown",
   "metadata": {},
   "source": [
    "To use the `%%dbt` cellmagic in your notebook, you have to load the dbt cellmagic module first via `%load_ext` or `%reload_ext` line magics "
   ]
  },
  {
   "cell_type": "code",
   "execution_count": null,
   "metadata": {},
   "outputs": [],
   "source": [
    "# load dbt cell magic\n",
    "%reload_ext nbdbt.dbt_cellmagic"
   ]
  },
  {
   "cell_type": "code",
   "execution_count": null,
   "metadata": {},
   "outputs": [],
   "source": [
    "# hide\n",
    "# delete my_third_model (if existing)\n",
    "! rm -f ../my_dbt_project/models/my_third_model.sql\n",
    "! rm -f ../my_dbt_project/target/compiled/my_dbt_project/models/my_third_model.sql"
   ]
  },
  {
   "cell_type": "markdown",
   "metadata": {},
   "source": [
    "The `%dbtconfig` line magic configures a default project (and optionally the dbt profiles directory with `-d` flag) "
   ]
  },
  {
   "cell_type": "code",
   "execution_count": null,
   "metadata": {},
   "outputs": [],
   "source": [
    "%dbtconfig -p ../my_dbt_project"
   ]
  },
  {
   "cell_type": "markdown",
   "metadata": {},
   "source": [
    "The next cell uses the `%%dbt` cell magic which will create a new model `my_third_model` and compile it as well."
   ]
  },
  {
   "cell_type": "code",
   "execution_count": null,
   "metadata": {},
   "outputs": [],
   "source": [
    "%%dbt -a my_third_model -n notebooks/index.ipynb models/my_third_model.sql\n",
    "select *\n",
    "from {{ ref('my_second_dbt_model') }}"
   ]
  },
  {
   "cell_type": "markdown",
   "metadata": {},
   "source": [
    "We then assigned the result of the compilation to the `my_third_model` variable, which is a Dbt (cell) magic object"
   ]
  },
  {
   "cell_type": "code",
   "execution_count": null,
   "metadata": {},
   "outputs": [
    {
     "data": {
      "text/plain": [
       "<nbdbt.dbt_cellmagic.DbtMagicObject at 0x7f21428e69d0>"
      ]
     },
     "execution_count": null,
     "metadata": {},
     "output_type": "execute_result"
    }
   ],
   "source": [
    "# skip_test\n",
    "my_third_model"
   ]
  },
  {
   "cell_type": "code",
   "execution_count": null,
   "metadata": {},
   "outputs": [],
   "source": [
    "# hide\n",
    "# skip_test\n",
    "from pathlib import Path\n",
    "\n",
    "assert Path(\"../my_dbt_project/models/my_third_model.sql\").exists()\n",
    "assert Path(\n",
    "    \"../my_dbt_project/target/compiled/my_dbt_project/models/my_third_model.sql\"\n",
    ").exists()"
   ]
  },
  {
   "cell_type": "markdown",
   "metadata": {},
   "source": [
    "The `ref` method on `DbtMagicObject`  allows us to run the query and save the results into a dataframe."
   ]
  },
  {
   "cell_type": "code",
   "execution_count": null,
   "metadata": {},
   "outputs": [
    {
     "data": {
      "text/html": [
       "<div>\n",
       "<style scoped>\n",
       "    .dataframe tbody tr th:only-of-type {\n",
       "        vertical-align: middle;\n",
       "    }\n",
       "\n",
       "    .dataframe tbody tr th {\n",
       "        vertical-align: top;\n",
       "    }\n",
       "\n",
       "    .dataframe thead th {\n",
       "        text-align: right;\n",
       "    }\n",
       "</style>\n",
       "<table border=\"1\" class=\"dataframe\">\n",
       "  <thead>\n",
       "    <tr style=\"text-align: right;\">\n",
       "      <th></th>\n",
       "      <th>id</th>\n",
       "    </tr>\n",
       "  </thead>\n",
       "  <tbody>\n",
       "    <tr>\n",
       "      <th>0</th>\n",
       "      <td>1.0</td>\n",
       "    </tr>\n",
       "  </tbody>\n",
       "</table>\n",
       "</div>"
      ],
      "text/plain": [
       "    id\n",
       "0  1.0"
      ]
     },
     "execution_count": null,
     "metadata": {},
     "output_type": "execute_result"
    }
   ],
   "source": [
    "# skip_test\n",
    "results = my_third_model.ref()\n",
    "results  # dataframe"
   ]
  },
  {
   "cell_type": "markdown",
   "metadata": {},
   "source": [
    "The dbt magic object also has access to other useful properties (like the compiled sql used to create the results)"
   ]
  },
  {
   "cell_type": "code",
   "execution_count": null,
   "metadata": {},
   "outputs": [
    {
     "name": "stdout",
     "output_type": "stream",
     "text": [
      "-- AUTOGENERATED! DO NOT EDIT! File to edit: notebooks/index.ipynb (unless otherwise specified).\n",
      "select *\n",
      "from `sample-dbt-learn-project`.`jaffle_shop`.`my_second_dbt_model`\n"
     ]
    }
   ],
   "source": [
    "# skip_test\n",
    "print(my_third_model._compiled_sql)"
   ]
  },
  {
   "cell_type": "markdown",
   "metadata": {},
   "source": [
    "We can then run the usual _dbt_ commands to generate the model "
   ]
  },
  {
   "cell_type": "code",
   "execution_count": null,
   "metadata": {},
   "outputs": [
    {
     "name": "stdout",
     "output_type": "stream",
     "text": [
      "/home/butch2/play/experiments/nbdbt/nbs\n",
      "15:19:27  Running with dbt=1.1.1\n",
      "15:19:27  Found 3 models, 4 tests, 0 snapshots, 3 analyses, 191 macros, 0 operations, 0 seed files, 0 sources, 0 exposures, 0 metrics\n",
      "15:19:27  \n",
      "15:19:28  Concurrency: 1 threads (target='dev')\n",
      "15:19:28  \n",
      "15:19:28  1 of 1 START view model jaffle_shop.my_third_model ............................. [RUN]\n",
      "15:19:30  1 of 1 OK created view model jaffle_shop.my_third_model ........................ [\u001b[32mOK\u001b[0m in 1.32s]\n",
      "15:19:30  \n",
      "15:19:30  Finished running 1 view model in 3.23s.\n",
      "15:19:30  \n",
      "15:19:30  \u001b[32mCompleted successfully\u001b[0m\n",
      "15:19:30  \n",
      "15:19:30  Done. PASS=1 WARN=0 ERROR=0 SKIP=0 TOTAL=1\n",
      "/home/butch2/play/experiments/nbdbt/nbs\n"
     ]
    }
   ],
   "source": [
    "# no_test\n",
    "%cd ../my_dbt_project\n",
    "! dbt run --select my_third_model\n",
    "%cd ../nbs"
   ]
  },
  {
   "cell_type": "code",
   "execution_count": null,
   "metadata": {},
   "outputs": [],
   "source": [
    "import nbdbt.dbt_cellmagic as nbc\n",
    "\n",
    "nbc.clear_cache()  # clears nbdtcache"
   ]
  }
 ],
 "metadata": {
  "kernelspec": {
   "display_name": "Python 3.7 (nbdbt)",
   "language": "python",
   "name": "nbdbt"
  }
 },
 "nbformat": 4,
 "nbformat_minor": 4
}
